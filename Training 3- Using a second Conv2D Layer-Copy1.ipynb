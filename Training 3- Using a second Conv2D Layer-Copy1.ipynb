{
 "cells": [
  {
   "cell_type": "code",
   "execution_count": 4,
   "metadata": {},
   "outputs": [],
   "source": [
    "from keras.datasets import cifar10"
   ]
  },
  {
   "cell_type": "code",
   "execution_count": 5,
   "metadata": {},
   "outputs": [],
   "source": [
    "(X_train, y_train), (X_test,y_test)= cifar10.load_data()\n",
    "\n",
    "import numpy as np\n",
    "\n",
    "X_train=X_train.astype(np.float32)/255.\n",
    "X_test=X_test.astype(np.float32)/255."
   ]
  },
  {
   "cell_type": "code",
   "execution_count": 6,
   "metadata": {},
   "outputs": [],
   "source": [
    "from keras.models import Sequential\n",
    "from keras.layers import Dense, Dropout, Flatten, Conv2D, MaxPooling2D\n",
    "\n",
    "model = Sequential()\n",
    "model.add(Conv2D(32, kernel_size=(3,3), input_shape=(32,32,3), activation=\"relu\"))\n",
    "model.add(Conv2D(32, kernel_size=(3,3), activation=\"relu\"))\n",
    "model.add(MaxPooling2D(pool_size=(2,2)))\n",
    "model.add(Dropout(0.25))\n",
    "model.add(Flatten())\n",
    "model.add(Dense(128, activation=\"relu\"))\n",
    "model.add(Dense(1, activation=\"sigmoid\"))\n",
    "\n",
    "model.compile(optimizer=\"rmsprop\", loss=\"binary_crossentropy\", metrics=[\"accuracy\"])"
   ]
  },
  {
   "cell_type": "code",
   "execution_count": 7,
   "metadata": {},
   "outputs": [
    {
     "name": "stdout",
     "output_type": "stream",
     "text": [
      "Epoch 1/10\n",
      "50000/50000 [==============================] - 8s 154us/step - loss: 0.2459 - acc: 0.9042\n",
      "Epoch 2/10\n",
      "50000/50000 [==============================] - 6s 111us/step - loss: 0.1714 - acc: 0.9336\n",
      "Epoch 3/10\n",
      "50000/50000 [==============================] - 6s 111us/step - loss: 0.1491 - acc: 0.9435\n",
      "Epoch 4/10\n",
      "50000/50000 [==============================] - 6s 111us/step - loss: 0.1328 - acc: 0.9500\n",
      "Epoch 5/10\n",
      "50000/50000 [==============================] - 6s 112us/step - loss: 0.1219 - acc: 0.9562\n",
      "Epoch 6/10\n",
      "50000/50000 [==============================] - 6s 111us/step - loss: 0.1116 - acc: 0.9597\n",
      "Epoch 7/10\n",
      "50000/50000 [==============================] - 6s 112us/step - loss: 0.1018 - acc: 0.9635\n",
      "Epoch 8/10\n",
      "50000/50000 [==============================] - 6s 111us/step - loss: 0.0943 - acc: 0.9659\n",
      "Epoch 9/10\n",
      "50000/50000 [==============================] - 6s 112us/step - loss: 0.0874 - acc: 0.9690\n",
      "Epoch 10/10\n",
      "50000/50000 [==============================] - 6s 112us/step - loss: 0.0807 - acc: 0.9709\n"
     ]
    },
    {
     "data": {
      "text/plain": [
       "<keras.callbacks.History at 0x7fcebc735240>"
      ]
     },
     "execution_count": 7,
     "metadata": {},
     "output_type": "execute_result"
    }
   ],
   "source": [
    "y_train_car = y_train == 1\n",
    "model.fit(X_train, y_train_car, batch_size=128, epochs=10, shuffle=True)"
   ]
  },
  {
   "cell_type": "code",
   "execution_count": 8,
   "metadata": {},
   "outputs": [
    {
     "name": "stdout",
     "output_type": "stream",
     "text": [
      "50000/50000 [==============================] - 5s 93us/step\n",
      "[0.059182929474562405, 0.97998]\n"
     ]
    }
   ],
   "source": [
    "print(model.evaluate(X_train,y_train_car))"
   ]
  },
  {
   "cell_type": "code",
   "execution_count": 9,
   "metadata": {},
   "outputs": [
    {
     "name": "stdout",
     "output_type": "stream",
     "text": [
      "10000/10000 [==============================] - 1s 94us/step\n",
      "[0.1071427916482091, 0.9616]\n"
     ]
    }
   ],
   "source": [
    "y_test_car=y_test==1\n",
    "\n",
    "print(model.evaluate(X_test,y_test_car))"
   ]
  },
  {
   "cell_type": "code",
   "execution_count": null,
   "metadata": {},
   "outputs": [],
   "source": []
  }
 ],
 "metadata": {
  "kernelspec": {
   "display_name": "Environment (conda_tensorflow_p36)",
   "language": "python",
   "name": "conda_tensorflow_p36"
  },
  "language_info": {
   "codemirror_mode": {
    "name": "ipython",
    "version": 3
   },
   "file_extension": ".py",
   "mimetype": "text/x-python",
   "name": "python",
   "nbconvert_exporter": "python",
   "pygments_lexer": "ipython3",
   "version": "3.6.5"
  }
 },
 "nbformat": 4,
 "nbformat_minor": 4
}
