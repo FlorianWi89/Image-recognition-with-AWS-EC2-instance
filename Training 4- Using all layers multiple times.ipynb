{
 "cells": [
  {
   "cell_type": "code",
   "execution_count": 37,
   "metadata": {},
   "outputs": [],
   "source": [
    "from keras.datasets import cifar10"
   ]
  },
  {
   "cell_type": "code",
   "execution_count": 38,
   "metadata": {},
   "outputs": [],
   "source": [
    "(X_train, y_train), (X_test,y_test)= cifar10.load_data()\n",
    "\n",
    "import numpy as np\n",
    "\n",
    "X_train=X_train.astype(np.float32)/255.\n",
    "X_test=X_test.astype(np.float32)/255."
   ]
  },
  {
   "cell_type": "code",
   "execution_count": 39,
   "metadata": {},
   "outputs": [],
   "source": [
    "from keras.models import Sequential\n",
    "from keras.layers import Dense, Dropout, Flatten, Conv2D, MaxPooling2D\n",
    "\n",
    "model = Sequential()\n",
    "model.add(Conv2D(32, kernel_size=(3,3), input_shape=(32,32,3), activation=\"relu\",padding=\"same\"))\n",
    "model.add(Conv2D(32, kernel_size=(3,3), activation=\"selu\", padding=\"same\"))\n",
    "model.add(MaxPooling2D(pool_size=(2,2)))\n",
    "model.add(Dropout(0.25))\n",
    "\n",
    "model.add(Conv2D(64, kernel_size=(3,3), activation=\"relu\", padding=\"same\"))\n",
    "model.add(Conv2D(64, kernel_size=(3,3), activation=\"relu\", padding=\"same\"))\n",
    "model.add(MaxPooling2D(pool_size=(2,2)))\n",
    "model.add(Dropout(0.25))\n",
    "\n",
    "model.add(Conv2D(128, kernel_size=(3,3), activation=\"relu\", padding=\"same\"))\n",
    "model.add(Conv2D(128, kernel_size=(3,3), activation=\"relu\", padding=\"same\"))\n",
    "model.add(MaxPooling2D(pool_size=(2,2)))\n",
    "model.add(Dropout(0.25))\n",
    "\n",
    "model.add(Flatten())\n",
    "model.add(Dense(128, activation=\"relu\"))\n",
    "model.add(Dense(1, activation=\"sigmoid\"))\n",
    "\n",
    "model.compile(optimizer=\"rmsprop\", loss=\"binary_crossentropy\", metrics=[\"accuracy\"])"
   ]
  },
  {
   "cell_type": "code",
   "execution_count": 40,
   "metadata": {},
   "outputs": [
    {
     "name": "stdout",
     "output_type": "stream",
     "text": [
      "Epoch 1/10\n",
      "50000/50000 [==============================] - 16s 323us/step - loss: 0.2475 - acc: 0.9135\n",
      "Epoch 2/10\n",
      "50000/50000 [==============================] - 15s 293us/step - loss: 0.1507 - acc: 0.9418\n",
      "Epoch 3/10\n",
      "50000/50000 [==============================] - 15s 294us/step - loss: 0.1183 - acc: 0.9563\n",
      "Epoch 4/10\n",
      "50000/50000 [==============================] - 15s 294us/step - loss: 0.0969 - acc: 0.9650\n",
      "Epoch 5/10\n",
      "50000/50000 [==============================] - 15s 294us/step - loss: 0.0862 - acc: 0.9700\n",
      "Epoch 6/10\n",
      "50000/50000 [==============================] - 15s 295us/step - loss: 0.0784 - acc: 0.9729\n",
      "Epoch 7/10\n",
      "50000/50000 [==============================] - 15s 296us/step - loss: 0.0739 - acc: 0.9748\n",
      "Epoch 8/10\n",
      "50000/50000 [==============================] - 15s 294us/step - loss: 0.0679 - acc: 0.9772\n",
      "Epoch 9/10\n",
      "50000/50000 [==============================] - 15s 296us/step - loss: 0.0638 - acc: 0.9782\n",
      "Epoch 10/10\n",
      "50000/50000 [==============================] - 15s 294us/step - loss: 0.0636 - acc: 0.9797\n"
     ]
    },
    {
     "data": {
      "text/plain": [
       "<keras.callbacks.History at 0x7fe44236e898>"
      ]
     },
     "execution_count": 40,
     "metadata": {},
     "output_type": "execute_result"
    }
   ],
   "source": [
    "y_train_car = y_train == 1\n",
    "model.fit(X_train, y_train_car, batch_size=128, epochs=10, shuffle=True)"
   ]
  },
  {
   "cell_type": "code",
   "execution_count": 41,
   "metadata": {},
   "outputs": [
    {
     "name": "stdout",
     "output_type": "stream",
     "text": [
      "50000/50000 [==============================] - 11s 219us/step\n",
      "[0.04037591220453381, 0.98922]\n"
     ]
    }
   ],
   "source": [
    "print(model.evaluate(X_train,y_train_car))"
   ]
  },
  {
   "cell_type": "code",
   "execution_count": 42,
   "metadata": {},
   "outputs": [
    {
     "name": "stdout",
     "output_type": "stream",
     "text": [
      "10000/10000 [==============================] - 2s 197us/step\n",
      "[0.06436538581401109, 0.9794]\n"
     ]
    }
   ],
   "source": [
    "y_test_car=y_test==1\n",
    "\n",
    "print(model.evaluate(X_test,y_test_car))"
   ]
  },
  {
   "cell_type": "code",
   "execution_count": null,
   "metadata": {},
   "outputs": [],
   "source": []
  }
 ],
 "metadata": {
  "kernelspec": {
   "display_name": "Environment (conda_tensorflow_p36)",
   "language": "python",
   "name": "conda_tensorflow_p36"
  },
  "language_info": {
   "codemirror_mode": {
    "name": "ipython",
    "version": 3
   },
   "file_extension": ".py",
   "mimetype": "text/x-python",
   "name": "python",
   "nbconvert_exporter": "python",
   "pygments_lexer": "ipython3",
   "version": "3.6.5"
  }
 },
 "nbformat": 4,
 "nbformat_minor": 4
}
