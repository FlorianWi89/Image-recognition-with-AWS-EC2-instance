{
 "cells": [
  {
   "cell_type": "code",
   "execution_count": 6,
   "metadata": {},
   "outputs": [],
   "source": [
    "from keras.datasets import cifar10"
   ]
  },
  {
   "cell_type": "code",
   "execution_count": 7,
   "metadata": {},
   "outputs": [],
   "source": [
    "(X_train, y_train), (X_test,y_test)= cifar10.load_data()\n",
    "\n",
    "import numpy as np\n",
    "\n",
    "X_train=X_train.astype(np.float32)/255.\n",
    "X_test=X_test.astype(np.float32)/255."
   ]
  },
  {
   "cell_type": "code",
   "execution_count": 8,
   "metadata": {},
   "outputs": [],
   "source": [
    "from keras.models import Sequential\n",
    "from keras.layers import Dense, Dropout, Flatten, Conv2D, MaxPooling2D\n",
    "\n",
    "model = Sequential()\n",
    "model.add(Conv2D(32, kernel_size=(3,3), input_shape=(32,32,3), activation=\"relu\"))\n",
    "model.add(MaxPooling2D(pool_size=(2,2)))\n",
    "model.add(Dropout(0.25))\n",
    "model.add(Flatten())\n",
    "model.add(Dense(128, activation=\"relu\"))\n",
    "model.add(Dense(1, activation=\"sigmoid\"))\n",
    "\n",
    "model.compile(optimizer=\"rmsprop\", loss=\"binary_crossentropy\", metrics=[\"accuracy\"])"
   ]
  },
  {
   "cell_type": "code",
   "execution_count": 5,
   "metadata": {},
   "outputs": [
    {
     "name": "stdout",
     "output_type": "stream",
     "text": [
      "Epoch 1/10\n",
      "50000/50000 [==============================] - 5s 105us/step - loss: 0.2381 - acc: 0.9049\n",
      "Epoch 2/10\n",
      "50000/50000 [==============================] - 3s 69us/step - loss: 0.1820 - acc: 0.9282\n",
      "Epoch 3/10\n",
      "50000/50000 [==============================] - 3s 68us/step - loss: 0.1678 - acc: 0.9380\n",
      "Epoch 4/10\n",
      "50000/50000 [==============================] - 3s 69us/step - loss: 0.1573 - acc: 0.9438\n",
      "Epoch 5/10\n",
      "50000/50000 [==============================] - 3s 69us/step - loss: 0.1470 - acc: 0.9482\n",
      "Epoch 6/10\n",
      "50000/50000 [==============================] - 3s 68us/step - loss: 0.1384 - acc: 0.9510\n",
      "Epoch 7/10\n",
      "50000/50000 [==============================] - 3s 68us/step - loss: 0.1287 - acc: 0.9561\n",
      "Epoch 8/10\n",
      "50000/50000 [==============================] - 3s 68us/step - loss: 0.1210 - acc: 0.9583\n",
      "Epoch 9/10\n",
      "50000/50000 [==============================] - 3s 68us/step - loss: 0.1137 - acc: 0.9611\n",
      "Epoch 10/10\n",
      "50000/50000 [==============================] - 3s 69us/step - loss: 0.1066 - acc: 0.9638\n"
     ]
    },
    {
     "data": {
      "text/plain": [
       "<keras.callbacks.History at 0x7f5e50945898>"
      ]
     },
     "execution_count": 5,
     "metadata": {},
     "output_type": "execute_result"
    }
   ],
   "source": [
    "y_train_car = y_train == 1\n",
    "model.fit(X_train, y_train_car, batch_size=128, epochs=10, shuffle=True)"
   ]
  },
  {
   "cell_type": "code",
   "execution_count": 9,
   "metadata": {},
   "outputs": [
    {
     "name": "stdout",
     "output_type": "stream",
     "text": [
      "50000/50000 [==============================] - 4s 75us/step\n",
      "[0.7891928669548035, 0.10122]\n"
     ]
    }
   ],
   "source": [
    "print(model.evaluate(X_train,y_train_car))"
   ]
  },
  {
   "cell_type": "code",
   "execution_count": null,
   "metadata": {},
   "outputs": [],
   "source": []
  }
 ],
 "metadata": {
  "kernelspec": {
   "display_name": "Environment (conda_tensorflow_p36)",
   "language": "python",
   "name": "conda_tensorflow_p36"
  },
  "language_info": {
   "codemirror_mode": {
    "name": "ipython",
    "version": 3
   },
   "file_extension": ".py",
   "mimetype": "text/x-python",
   "name": "python",
   "nbconvert_exporter": "python",
   "pygments_lexer": "ipython3",
   "version": "3.6.5"
  }
 },
 "nbformat": 4,
 "nbformat_minor": 4
}
